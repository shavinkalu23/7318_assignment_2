{
  "nbformat": 4,
  "nbformat_minor": 0,
  "metadata": {
    "colab": {
      "provenance": [],
      "gpuType": "T4",
      "include_colab_link": true
    },
    "kernelspec": {
      "name": "python3",
      "display_name": "Python 3"
    },
    "language_info": {
      "name": "python"
    },
    "accelerator": "GPU"
  },
  "cells": [
    {
      "cell_type": "markdown",
      "metadata": {
        "id": "view-in-github",
        "colab_type": "text"
      },
      "source": [
        "<a href=\"https://colab.research.google.com/github/shavinkalu23/7318_assignment_2/blob/main/7318_assignment2.ipynb\" target=\"_parent\"><img src=\"https://colab.research.google.com/assets/colab-badge.svg\" alt=\"Open In Colab\"/></a>"
      ]
    },
    {
      "cell_type": "code",
      "execution_count": null,
      "metadata": {
        "id": "dXp-EWAp6DUw",
        "colab": {
          "base_uri": "https://localhost:8080/"
        },
        "outputId": "0b8b84d5-d851-4ca0-b1e1-65eb45a554bc"
      },
      "outputs": [
        {
          "output_type": "stream",
          "name": "stdout",
          "text": [
            "Downloading https://sid.erda.dk/public/archives/daaeac0d7ce1152aea9b61d9f1e19370/GTSRB-Training_fixed.zip to data/gtsrb/GTSRB-Training_fixed.zip\n"
          ]
        },
        {
          "output_type": "stream",
          "name": "stderr",
          "text": [
            "100%|██████████| 187490228/187490228 [00:07<00:00, 26342905.18it/s]\n"
          ]
        },
        {
          "output_type": "stream",
          "name": "stdout",
          "text": [
            "Extracting data/gtsrb/GTSRB-Training_fixed.zip to data/gtsrb\n"
          ]
        },
        {
          "output_type": "stream",
          "name": "stderr",
          "text": [
            "/usr/local/lib/python3.10/dist-packages/torchvision/transforms/v2/_deprecated.py:43: UserWarning: The transform `ToTensor()` is deprecated and will be removed in a future release. Instead, please use `v2.Compose([v2.ToImage(), v2.ToDtype(torch.float32, scale=True)])`.\n",
            "  warnings.warn(\n"
          ]
        }
      ],
      "source": [
        "import torch\n",
        "import torchvision\n",
        "import torchvision.transforms as transforms\n",
        "import matplotlib.pyplot as plt\n",
        "import torch.nn as nn\n",
        "import torch.nn.functional as F\n",
        "import torch.optim as optim\n",
        "from torchvision import models\n",
        "from torchvision.transforms.v2 import ToTensor,Resize,Compose,ColorJitter,RandomRotation,RandomAffine, AugMix,RandomCrop,GaussianBlur,RandomEqualize,RandomHorizontalFlip,RandomVerticalFlip, Normalize\n",
        "from tqdm import tqdm\n",
        "import matplotlib.pyplot as plt\n",
        "import torch\n",
        "from torch.utils.data import random_split\n",
        "\n",
        "SEED = 42\n",
        "\n",
        "torch.manual_seed(SEED)\n",
        "\n",
        "# If you are using CUDA\n",
        "if torch.cuda.is_available():\n",
        "    torch.cuda.manual_seed(SEED)\n",
        "    torch.cuda.manual_seed_all(SEED)\n",
        "    torch.backends.cudnn.deterministic = True\n",
        "    torch.backends.cudnn.benchmark = False\n",
        "\n",
        "# transform = Compose([\n",
        "#     Resize([32,32]),\n",
        "#     ToTensor(),\n",
        "# ])\n",
        "# Load the entire GTSRB dataset\n",
        "full_dataset = torchvision.datasets.GTSRB(root='./data',\n",
        "                                          split='train',\n",
        "                                          download=True)\n",
        "\n",
        "# 80-20 split\n",
        "train_size = int(0.8 * len(full_dataset))\n",
        "test_size = len(full_dataset) - train_size\n",
        "\n",
        "train_dataset, test_dataset_org = random_split(full_dataset, [train_size, test_size])\n",
        "\n",
        "# Further split training data into training and validation datasets\n",
        "train_size = int(0.8 * len(train_dataset))\n",
        "val_size = len(train_dataset) - train_size\n",
        "\n",
        "train_dataset_org, val_dataset_org = random_split(train_dataset, [train_size, val_size])\n",
        "\n",
        "# def compute_mean_std(loader):\n",
        "#     mean = 0.\n",
        "#     std = 0.\n",
        "#     nb_samples = 0.\n",
        "\n",
        "#     for data, _ in loader:\n",
        "#         batch_samples = data.size(0)\n",
        "#         data = data.view(batch_samples, data.size(1), -1)\n",
        "#         mean += data.mean(2).sum(0)\n",
        "#         std += data.std(2).sum(0)\n",
        "#         nb_samples += batch_samples\n",
        "\n",
        "#     mean /= nb_samples\n",
        "#     std /= nb_samples\n",
        "\n",
        "#     return mean, std\n",
        "\n",
        "# train_loader_for_stats = torch.utils.data.DataLoader(train_dataset, batch_size=64, shuffle=False, num_workers=2)\n",
        "# mean, std = compute_mean_std(train_loader_for_stats)\n",
        "# print(mean,std)\n",
        "\n",
        "mean = (0.3337, 0.3064, 0.3171)\n",
        "std =  ( 0.2672, 0.2564, 0.2629)\n",
        "\n",
        "train_transforms = Compose([\n",
        "    Resize([32,32]),\n",
        "    ToTensor(),\n",
        "    Normalize((mean), (std))\n",
        "])\n",
        "\n",
        "\n",
        "\n",
        "\n",
        "validation_transforms = Compose([\n",
        "    Resize([32,32]),\n",
        "    ToTensor(),\n",
        "    Normalize((mean), (std))\n",
        "])\n",
        "\n",
        "test_transforms = Compose([\n",
        "    Resize([32,32]),\n",
        "    ToTensor(),\n",
        "    Normalize((mean), (std))\n",
        "])\n",
        "\n",
        "class CustomDataset(torch.utils.data.Dataset):\n",
        "    def __init__(self, subset, transform=None):\n",
        "        self.subset = subset\n",
        "        self.transform = transform\n",
        "\n",
        "    def __getitem__(self, index):\n",
        "        x, y = self.subset[index]\n",
        "        if self.transform:\n",
        "            x = self.transform(x)\n",
        "        return x, y\n",
        "\n",
        "    def __len__(self):\n",
        "        return len(self.subset)\n",
        "\n",
        "\n",
        "# Apply transformations\n",
        "train_dataset = CustomDataset(train_dataset_org, transform=train_transforms)\n",
        "val_dataset = CustomDataset(val_dataset_org, transform=validation_transforms)\n",
        "test_dataset = CustomDataset(test_dataset_org, transform=test_transforms)\n",
        "\n",
        "BS = 64\n",
        "\n",
        "# Data loaders\n",
        "train_loader = torch.utils.data.DataLoader(train_dataset, batch_size=BS, shuffle=True, num_workers=2, pin_memory=True)\n",
        "val_loader = torch.utils.data.DataLoader(val_dataset, batch_size=BS, shuffle=False, num_workers=2, pin_memory=True)\n",
        "test_loader = torch.utils.data.DataLoader(test_dataset, batch_size=BS, shuffle=False, num_workers=2, pin_memory=True)\n",
        "\n",
        "\n",
        "device = torch.device(\"cuda\" if torch.cuda.is_available() else \"cpu\")\n",
        "\n",
        "\n",
        "\n"
      ]
    },
    {
      "cell_type": "code",
      "source": [
        "def training_metrics(positives, data_size, loss):\n",
        "    acc = positives / data_size\n",
        "    return loss, acc\n",
        "\n",
        "def validation_metrics(validation_data, loss_function, model):\n",
        "    data_size = len(validation_data.dataset)\n",
        "    correct_predictions = 0\n",
        "    total_samples = 0\n",
        "    val_loss = 0\n",
        "\n",
        "    model.eval()\n",
        "    with torch.no_grad():\n",
        "        for step, (input, label) in enumerate(validation_data):\n",
        "            input, label = input.to(device), label.to(device)\n",
        "            prediction = model(input)\n",
        "            loss = loss_function(prediction, label)\n",
        "            val_loss += loss.item()\n",
        "            _, predicted = torch.max(prediction, 1)\n",
        "            correct_predictions += (predicted == label).sum().item()\n",
        "            total_samples += label.size(0)\n",
        "\n",
        "    val_acc = correct_predictions / total_samples\n",
        "    return val_loss / len(validation_data), val_acc\n"
      ],
      "metadata": {
        "id": "NpeRK0OU0VC3"
      },
      "execution_count": null,
      "outputs": []
    },
    {
      "cell_type": "code",
      "source": [
        "def compile(train_data, validation_data, epochs, loss_function, optimizer, model, learning_rate_scheduler= None, early_stopping = None):\n",
        "    val_acc_list = []\n",
        "    val_loss_list = []\n",
        "\n",
        "    train_acc_list = []\n",
        "    train_loss_list = []\n",
        "\n",
        "    learning_rate_list = []\n",
        "\n",
        "    print('Training started ...')\n",
        "    STEPS = len(train_data)\n",
        "    for epoch in range(epochs):\n",
        "        lr = optimizer.param_groups[0][\"lr\"]\n",
        "        learning_rate_list.append(lr)\n",
        "        correct_predictions = 0\n",
        "        total_examples = 0\n",
        "        loss_val = 0\n",
        "\n",
        "        pbar = tqdm(enumerate(train_data), total=STEPS, desc=f\"Epoch [{epoch+1}/{epochs}]\")\n",
        "        for step, (input, label) in pbar:\n",
        "            input, label = input.to(device), label.to(device)\n",
        "            prediction = model(input)\n",
        "\n",
        "            _, predicted = torch.max(prediction, 1)\n",
        "            correct_predictions += (predicted == label).sum().item()\n",
        "            total_examples += label.size(0)\n",
        "\n",
        "            loss = loss_function(prediction, label)\n",
        "            loss_val += loss.item()\n",
        "            loss.backward()\n",
        "\n",
        "            optimizer.step()\n",
        "            optimizer.zero_grad()\n",
        "\n",
        "            pbar.set_postfix({\n",
        "                \"Learning Rate\": lr,\n",
        "                \"Loss\": f\"{loss.item():.4f}\",\n",
        "                \"Accuracy\": f\"{correct_predictions/total_examples:.4f}\"\n",
        "            })\n",
        "\n",
        "        training_loss, training_acc = training_metrics(correct_predictions, total_examples, loss_val / len(train_data))\n",
        "        train_acc_list.append(training_acc)\n",
        "        train_loss_list.append(training_loss)\n",
        "\n",
        "        val_loss, val_acc = validation_metrics(validation_data, loss_function, model)\n",
        "        val_acc_list.append(val_acc)\n",
        "        val_loss_list.append(val_loss)\n",
        "\n",
        "        print(f'Validation Accuracy: {val_acc:.4f}, Validation Loss: {val_loss:.4f}')\n",
        "\n",
        "        if early_stopping:\n",
        "          early_stopping.step(val_loss)\n",
        "          if early_stopping.stop:\n",
        "              break\n",
        "        if learning_rate_scheduler:\n",
        "          learning_rate_scheduler.step()\n",
        "\n",
        "    metrics_dict = {\n",
        "        'train_acc': train_acc_list,\n",
        "        'train_loss': train_loss_list,\n",
        "        'val_acc': val_acc_list,\n",
        "        'val_loss': val_loss_list,\n",
        "        'learning_rate': learning_rate_list\n",
        "    }\n",
        "\n",
        "    return metrics_dict"
      ],
      "metadata": {
        "id": "mQ27GYQ33WCi"
      },
      "execution_count": null,
      "outputs": []
    },
    {
      "cell_type": "code",
      "source": [
        "class BaseCNN(nn.Module):\n",
        "    def __init__(self):\n",
        "        super(BaseCNN, self).__init__()\n",
        "        self.conv1 = nn.Conv2d(3, 16, 5)\n",
        "        self.pool = nn.MaxPool2d(2, 2)\n",
        "        self.conv2 = nn.Conv2d(16, 32, 5)\n",
        "        self.fc1 = nn.Linear(32 * 5 * 5, 120)\n",
        "        self.fc2 = nn.Linear(120, 84)\n",
        "        self.fc3 = nn.Linear(84, 43)\n",
        "\n",
        "    def forward(self, x):\n",
        "        x = self.pool(F.relu(self.conv1(x)))\n",
        "        x = self.pool(F.relu(self.conv2(x)))\n",
        "        x = x.view(-1, 32 * 5 * 5)\n",
        "        x = F.relu(self.fc1(x))\n",
        "        x = F.relu(self.fc2(x))\n",
        "        x = self.fc3(x)\n",
        "        return x\n",
        "\n",
        "EPOCHS = 5\n",
        "LEARNING_RATE = 0.001\n",
        "\n",
        "\n",
        "model = BaseCNN().to(device)\n",
        "criterion = nn.CrossEntropyLoss()\n",
        "optimizer = optim.SGD(model.parameters(), lr=0.001, momentum=0.9)\n",
        "loss = nn.CrossEntropyLoss()\n",
        "base_cnn_metrics = compile(model =model, train_data=train_loader,validation_data=val_loader,epochs=EPOCHS,loss_function=loss,optimizer=optimizer)"
      ],
      "metadata": {
        "id": "w11b_UPIFT8M",
        "colab": {
          "base_uri": "https://localhost:8080/"
        },
        "outputId": "28009e0d-c398-4fdf-bcc1-0dcd85aee1d5"
      },
      "execution_count": null,
      "outputs": [
        {
          "output_type": "stream",
          "name": "stdout",
          "text": [
            "Training started ...\n"
          ]
        },
        {
          "output_type": "stream",
          "name": "stderr",
          "text": [
            "Epoch [1/5]: 100%|██████████| 267/267 [00:16<00:00, 16.34it/s, Learning Rate=0.001, Loss=3.6109, Accuracy=0.0503]\n"
          ]
        },
        {
          "output_type": "stream",
          "name": "stdout",
          "text": [
            "Validation Accuracy: 0.0713, Validation Loss: 3.5707\n"
          ]
        },
        {
          "output_type": "stream",
          "name": "stderr",
          "text": [
            "Epoch [2/5]: 100%|██████████| 267/267 [00:07<00:00, 34.99it/s, Learning Rate=0.001, Loss=3.4021, Accuracy=0.0980]\n"
          ]
        },
        {
          "output_type": "stream",
          "name": "stdout",
          "text": [
            "Validation Accuracy: 0.1239, Validation Loss: 3.3560\n"
          ]
        },
        {
          "output_type": "stream",
          "name": "stderr",
          "text": [
            "Epoch [3/5]: 100%|██████████| 267/267 [00:09<00:00, 27.65it/s, Learning Rate=0.001, Loss=3.5403, Accuracy=0.1294]\n"
          ]
        },
        {
          "output_type": "stream",
          "name": "stdout",
          "text": [
            "Validation Accuracy: 0.1558, Validation Loss: 3.1991\n"
          ]
        },
        {
          "output_type": "stream",
          "name": "stderr",
          "text": [
            "Epoch [4/5]: 100%|██████████| 267/267 [00:11<00:00, 22.71it/s, Learning Rate=0.001, Loss=2.4748, Accuracy=0.2157]\n"
          ]
        },
        {
          "output_type": "stream",
          "name": "stdout",
          "text": [
            "Validation Accuracy: 0.2740, Validation Loss: 2.7057\n"
          ]
        },
        {
          "output_type": "stream",
          "name": "stderr",
          "text": [
            "Epoch [5/5]: 100%|██████████| 267/267 [00:11<00:00, 23.22it/s, Learning Rate=0.001, Loss=2.0912, Accuracy=0.3470]\n"
          ]
        },
        {
          "output_type": "stream",
          "name": "stdout",
          "text": [
            "Validation Accuracy: 0.4680, Validation Loss: 1.9527\n"
          ]
        }
      ]
    },
    {
      "cell_type": "code",
      "source": [
        "torch.save(model, '/content/drive/My Drive/base_model.pth')"
      ],
      "metadata": {
        "id": "wH606x9KFUOo"
      },
      "execution_count": null,
      "outputs": []
    },
    {
      "cell_type": "markdown",
      "source": [
        "Data augmentation can introduce variance into the dataset and reduce overfitting. Given the GTSRB dataset contains traffic signs which can be captured under various conditions, we can use a few common augmentations:"
      ],
      "metadata": {
        "id": "iHNt5DRS0CYV"
      }
    },
    {
      "cell_type": "code",
      "source": [
        "mean = (0.3337, 0.3064, 0.3171)\n",
        "std =  ( 0.2672, 0.2564, 0.2629)\n",
        "\n",
        "train_aug_transforms = Compose([\n",
        "    RandomHorizontalFlip(),\n",
        "    RandomRotation(10),\n",
        "    ColorJitter(brightness=0.2, contrast=0.2, saturation=0.2),\n",
        "    RandomAffine(degrees=0, translate=(0.1, 0.1)),\n",
        "    Resize([32,32]),\n",
        "    ToTensor(),\n",
        "    Normalize((mean), (std))\n",
        "])\n",
        "train_aug_dataset = CustomDataset(train_dataset , transform=train_aug_transforms)\n",
        "\n",
        "BS = 64\n",
        "\n",
        "# Data loaders\n",
        "train_loader = torch.utils.data.DataLoader(torch.utils.data.ConcatDataset([train_dataset,train_aug_dataset]), batch_size=BS, shuffle=True, num_workers=2, pin_memory=True)\n",
        "model = BaseCNN().to(device)\n",
        "criterion = nn.CrossEntropyLoss()\n",
        "optimizer = optim.SGD(model.parameters(), lr=0.001, momentum=0.9)\n",
        "loss = nn.CrossEntropyLoss()\n",
        "base_cnn_aug_metrics = compile(model =model, train_data=train_loader,validation_data=val_loader,epochs=EPOCHS,loss_function=loss,optimizer=optimizer)"
      ],
      "metadata": {
        "colab": {
          "base_uri": "https://localhost:8080/"
        },
        "id": "Phx1Y_NJf3Xg",
        "outputId": "07c592ea-26ed-4605-a5de-4fd97146c69b"
      },
      "execution_count": null,
      "outputs": [
        {
          "output_type": "stream",
          "name": "stdout",
          "text": [
            "Training started ...\n"
          ]
        },
        {
          "output_type": "stream",
          "name": "stderr",
          "text": [
            "Epoch [1/5]: 100%|██████████| 533/533 [00:59<00:00,  8.98it/s, Learning Rate=0.001, Loss=3.2465, Accuracy=0.0596]\n"
          ]
        },
        {
          "output_type": "stream",
          "name": "stdout",
          "text": [
            "Validation Accuracy: 0.1006, Validation Loss: 3.4184\n"
          ]
        },
        {
          "output_type": "stream",
          "name": "stderr",
          "text": [
            "Epoch [2/5]: 100%|██████████| 533/533 [00:50<00:00, 10.55it/s, Learning Rate=0.001, Loss=3.1005, Accuracy=0.1475]\n"
          ]
        },
        {
          "output_type": "stream",
          "name": "stdout",
          "text": [
            "Validation Accuracy: 0.2519, Validation Loss: 2.8873\n"
          ]
        },
        {
          "output_type": "stream",
          "name": "stderr",
          "text": [
            "Epoch [3/5]: 100%|██████████| 533/533 [00:51<00:00, 10.40it/s, Learning Rate=0.001, Loss=2.4322, Accuracy=0.2748]\n"
          ]
        },
        {
          "output_type": "stream",
          "name": "stdout",
          "text": [
            "Validation Accuracy: 0.4419, Validation Loss: 2.1388\n"
          ]
        },
        {
          "output_type": "stream",
          "name": "stderr",
          "text": [
            "Epoch [4/5]: 100%|██████████| 533/533 [00:52<00:00, 10.25it/s, Learning Rate=0.001, Loss=2.2555, Accuracy=0.3919]\n"
          ]
        },
        {
          "output_type": "stream",
          "name": "stdout",
          "text": [
            "Validation Accuracy: 0.5510, Validation Loss: 1.6191\n"
          ]
        },
        {
          "output_type": "stream",
          "name": "stderr",
          "text": [
            "Epoch [5/5]: 100%|██████████| 533/533 [00:52<00:00, 10.06it/s, Learning Rate=0.001, Loss=1.8907, Accuracy=0.4855]\n"
          ]
        },
        {
          "output_type": "stream",
          "name": "stdout",
          "text": [
            "Validation Accuracy: 0.6798, Validation Loss: 1.2066\n"
          ]
        }
      ]
    },
    {
      "cell_type": "code",
      "source": [
        "torch.save(model, '/content/drive/My Drive/base_model_aug.pth')"
      ],
      "metadata": {
        "id": "eEhPRivxg9Ty"
      },
      "execution_count": null,
      "outputs": []
    },
    {
      "cell_type": "code",
      "source": [
        "#convert the images to size 224x224 to support input size of VGG16 and Resnet34\n",
        "train_transforms = Compose([\n",
        "    Resize([224,224]),\n",
        "    ToTensor(),\n",
        "    Normalize((mean), (std))\n",
        "])\n",
        "\n",
        "validation_transforms = Compose([\n",
        "    Resize([224,224]),\n",
        "    ToTensor(),\n",
        "    Normalize((mean), (std))\n",
        "])\n",
        "\n",
        "test_transforms = Compose([\n",
        "    Resize([224,224]),\n",
        "    ToTensor(),\n",
        "    Normalize((mean), (std))\n",
        "])\n",
        "\n",
        "train_aug_transforms = Compose([\n",
        "    RandomHorizontalFlip(),\n",
        "    RandomRotation(10),\n",
        "    ColorJitter(brightness=0.2, contrast=0.2, saturation=0.2),\n",
        "    RandomAffine(degrees=0, translate=(0.1, 0.1)),\n",
        "    Resize([224,224]),\n",
        "    ToTensor(),\n",
        "    Normalize((mean), (std))\n",
        "])"
      ],
      "metadata": {
        "id": "Pf0vp8dwr9qd"
      },
      "execution_count": null,
      "outputs": []
    },
    {
      "cell_type": "code",
      "source": [
        "# Apply transformations\n",
        "train_dataset = CustomDataset(train_dataset_org, transform=train_transforms)\n",
        "val_dataset = CustomDataset(val_dataset_org, transform=validation_transforms)\n",
        "test_dataset = CustomDataset(test_dataset_org, transform=test_transforms)\n",
        "\n",
        "BS = 64\n",
        "\n",
        "train_aug_dataset = CustomDataset(train_dataset , transform=train_aug_transforms)\n",
        "\n",
        "# Data loaders\n",
        "train_loader = torch.utils.data.DataLoader(torch.utils.data.ConcatDataset([train_dataset,train_aug_dataset]), batch_size=BS, shuffle=True, num_workers=2, pin_memory=True)\n",
        "val_loader = torch.utils.data.DataLoader(val_dataset, batch_size=BS, shuffle=False, num_workers=2, pin_memory=True)\n",
        "test_loader = torch.utils.data.DataLoader(test_dataset, batch_size=BS, shuffle=False, num_workers=2, pin_memory=True)\n"
      ],
      "metadata": {
        "id": "qx28R3zYrym7"
      },
      "execution_count": null,
      "outputs": []
    },
    {
      "cell_type": "code",
      "source": [
        "EPOCHS = 5\n",
        "LEARNING_RATE = 0.001\n",
        "INPUT_DIM = 3*32*32\n",
        "OUTPUT_DIM = 43\n",
        "# Load the VGG16 model\n",
        "vgg16 = models.vgg16(pretrained=False)  # We use a non-pretrained model for this task\n",
        "vgg16.classifier[6] = nn.Linear(4096, 43)  # Change the last layer to have 43 outputs\n",
        "\n",
        "device = torch.device(\"cuda\" if torch.cuda.is_available() else \"cpu\")\n",
        "\n",
        "model = vgg16.to(device)\n",
        "loss = nn.CrossEntropyLoss()\n",
        "optimizer = optim.SGD(model.parameters(), lr=0.001, momentum=0.9)\n",
        "\n",
        "vgg16_1_metrics = compile(model =model, train_data=train_loader,validation_data=val_loader,epochs=EPOCHS,loss_function=loss,optimizer=optimizer)"
      ],
      "metadata": {
        "colab": {
          "base_uri": "https://localhost:8080/"
        },
        "id": "FzHkPUo86elX",
        "outputId": "fb9d07f0-1e1b-4a29-cca4-8ecdb57ab2a9"
      },
      "execution_count": null,
      "outputs": [
        {
          "output_type": "stream",
          "name": "stderr",
          "text": [
            "/usr/local/lib/python3.10/dist-packages/torchvision/models/_utils.py:208: UserWarning: The parameter 'pretrained' is deprecated since 0.13 and may be removed in the future, please use 'weights' instead.\n",
            "  warnings.warn(\n",
            "/usr/local/lib/python3.10/dist-packages/torchvision/models/_utils.py:223: UserWarning: Arguments other than a weight enum or `None` for 'weights' are deprecated since 0.13 and may be removed in the future. The current behavior is equivalent to passing `weights=None`.\n",
            "  warnings.warn(msg)\n"
          ]
        },
        {
          "output_type": "stream",
          "name": "stdout",
          "text": [
            "Training started ...\n"
          ]
        },
        {
          "output_type": "stream",
          "name": "stderr",
          "text": [
            "Epoch [1/5]: 100%|██████████| 533/533 [11:30<00:00,  1.30s/it, Learning Rate=0.001, Loss=2.5757, Accuracy=0.1504]\n"
          ]
        },
        {
          "output_type": "stream",
          "name": "stdout",
          "text": [
            "Validation Accuracy: 0.4063, Validation Loss: 1.9491\n"
          ]
        },
        {
          "output_type": "stream",
          "name": "stderr",
          "text": [
            "Epoch [2/5]: 100%|██████████| 533/533 [11:39<00:00,  1.31s/it, Learning Rate=0.001, Loss=1.6182, Accuracy=0.4177]\n"
          ]
        },
        {
          "output_type": "stream",
          "name": "stdout",
          "text": [
            "Validation Accuracy: 0.7673, Validation Loss: 0.7236\n"
          ]
        },
        {
          "output_type": "stream",
          "name": "stderr",
          "text": [
            "Epoch [3/5]: 100%|██████████| 533/533 [11:38<00:00,  1.31s/it, Learning Rate=0.001, Loss=1.2378, Accuracy=0.6206]\n"
          ]
        },
        {
          "output_type": "stream",
          "name": "stdout",
          "text": [
            "Validation Accuracy: 0.8968, Validation Loss: 0.3289\n"
          ]
        },
        {
          "output_type": "stream",
          "name": "stderr",
          "text": [
            "Epoch [4/5]: 100%|██████████| 533/533 [11:53<00:00,  1.34s/it, Learning Rate=0.001, Loss=0.6690, Accuracy=0.7161]\n"
          ]
        },
        {
          "output_type": "stream",
          "name": "stdout",
          "text": [
            "Validation Accuracy: 0.9510, Validation Loss: 0.1490\n"
          ]
        },
        {
          "output_type": "stream",
          "name": "stderr",
          "text": [
            "Epoch [5/5]: 100%|██████████| 533/533 [11:54<00:00,  1.34s/it, Learning Rate=0.001, Loss=0.7558, Accuracy=0.7606]\n"
          ]
        },
        {
          "output_type": "stream",
          "name": "stdout",
          "text": [
            "Validation Accuracy: 0.9704, Validation Loss: 0.0973\n"
          ]
        }
      ]
    },
    {
      "cell_type": "code",
      "source": [
        "torch.save(model, '/content/drive/MyDrive/Colab Notebooks/Models/vgg16.pth')"
      ],
      "metadata": {
        "id": "_N-_uwJdeMOd"
      },
      "execution_count": null,
      "outputs": []
    },
    {
      "cell_type": "code",
      "source": [
        " # Load the resnet34 model\n",
        "resnet34 = models.resnet34(pretrained=False)  # We use a non-pretrained model for this task\n",
        "resnet34.fc = nn.Linear(resnet34.fc.in_features, 43)  # Change the final fully connected layer to have 43 outputs\n",
        "\n",
        "model = resnet34.to(device)\n",
        "criterion = nn.CrossEntropyLoss()\n",
        "optimizer = optim.SGD(model.parameters(), lr=0.001, momentum=0.9)\n",
        "\n",
        "resnet_metrics = compile(model =model, train_data=train_loader,validation_data=val_loader,epochs=EPOCHS,loss_function=loss,optimizer=optimizer)\n",
        "torch.save(model, '/content/drive/MyDrive/Colab Notebooks/Models/resnet34.pth')\n",
        "\n",
        "\n"
      ],
      "metadata": {
        "colab": {
          "base_uri": "https://localhost:8080/"
        },
        "id": "CyX_wXNv7JW9",
        "outputId": "21b193bc-439b-4938-9c6d-b9c8e0e95320"
      },
      "execution_count": null,
      "outputs": [
        {
          "output_type": "stream",
          "name": "stdout",
          "text": [
            "Training started ...\n"
          ]
        },
        {
          "output_type": "stream",
          "name": "stderr",
          "text": [
            "Epoch [1/5]: 100%|██████████| 533/533 [04:22<00:00,  2.03it/s, Learning Rate=0.001, Loss=2.9008, Accuracy=0.1354]\n"
          ]
        },
        {
          "output_type": "stream",
          "name": "stdout",
          "text": [
            "Validation Accuracy: 0.2548, Validation Loss: 3.0069\n"
          ]
        },
        {
          "output_type": "stream",
          "name": "stderr",
          "text": [
            "Epoch [2/5]: 100%|██████████| 533/533 [04:14<00:00,  2.10it/s, Learning Rate=0.001, Loss=2.2076, Accuracy=0.2460]\n"
          ]
        },
        {
          "output_type": "stream",
          "name": "stdout",
          "text": [
            "Validation Accuracy: 0.4764, Validation Loss: 1.6113\n"
          ]
        },
        {
          "output_type": "stream",
          "name": "stderr",
          "text": [
            "Epoch [3/5]: 100%|██████████| 533/533 [04:14<00:00,  2.10it/s, Learning Rate=0.001, Loss=1.5765, Accuracy=0.4045]\n"
          ]
        },
        {
          "output_type": "stream",
          "name": "stdout",
          "text": [
            "Validation Accuracy: 0.7011, Validation Loss: 0.9228\n"
          ]
        },
        {
          "output_type": "stream",
          "name": "stderr",
          "text": [
            "Epoch [4/5]: 100%|██████████| 533/533 [04:17<00:00,  2.07it/s, Learning Rate=0.001, Loss=1.4903, Accuracy=0.5629]\n"
          ]
        },
        {
          "output_type": "stream",
          "name": "stdout",
          "text": [
            "Validation Accuracy: 0.8689, Validation Loss: 0.4273\n"
          ]
        },
        {
          "output_type": "stream",
          "name": "stderr",
          "text": [
            "Epoch [5/5]: 100%|██████████| 533/533 [04:13<00:00,  2.10it/s, Learning Rate=0.001, Loss=1.0591, Accuracy=0.6275]\n"
          ]
        },
        {
          "output_type": "stream",
          "name": "stdout",
          "text": [
            "Validation Accuracy: 0.8820, Validation Loss: 0.3333\n"
          ]
        }
      ]
    },
    {
      "cell_type": "code",
      "source": [],
      "metadata": {
        "id": "SxydjxCdzEIj"
      },
      "execution_count": null,
      "outputs": []
    },
    {
      "cell_type": "code",
      "source": [
        "class EarlyStopping:\n",
        "    def __init__(self, patience=5, min_delta=0):\n",
        "        self.patience = patience\n",
        "        self.min_delta = min_delta\n",
        "        self.counter = 0\n",
        "        self.best_score = None\n",
        "        self.stop = False\n",
        "\n",
        "    def step(self, val_loss):\n",
        "        score = -val_loss\n",
        "        if self.best_score is None:\n",
        "            self.best_score = score\n",
        "        elif score < self.best_score + self.min_delta:\n",
        "            self.counter += 1\n",
        "            if self.counter >= self.patience:\n",
        "                self.stop = True\n",
        "        else:\n",
        "            self.best_score = score\n",
        "            self.counter = 0\n",
        "\n",
        "\n"
      ],
      "metadata": {
        "id": "99Y7jBo8XDi6"
      },
      "execution_count": null,
      "outputs": []
    },
    {
      "cell_type": "code",
      "source": [
        "# Sample randomly from the hyperparameter space\n",
        "hyperparameters_space = {\n",
        "    'batch_size': [16, 32, 64, 128],\n",
        "    'lr': [1e-3, 1e-4, 5e-5, 5e-4],\n",
        "    'momentum': [0.9, 0.95, 0.99],\n",
        "    'optimizer': ['Adam','SGD'],\n",
        "    'weight_decay': [0, 1e-5, 1e-4],   # Regularization for Adam\n",
        "}\n",
        "\n",
        "num_samples = 5\n",
        "random_search = []\n",
        "import random\n",
        "for _ in range(num_samples):\n",
        "    sample = {}\n",
        "    for k, v in hyperparameters_space.items():\n",
        "        sample[k] = random.choice(v)\n",
        "    random_search.append(sample)\n",
        "\n",
        "random_search = random.sample(random_search, num_samples)\n",
        "print(random_search)\n",
        "\n",
        "\n",
        "best_accuracy = 0.0\n",
        "best_params = None\n",
        "MAX_EPOCHS = 5  # Setting an upper bound on epochs, you can adjust this\n",
        "results = []\n",
        "for params in random_search:\n",
        "    # Define data loaders with the current batch size\n",
        "    train_loader = torch.utils.data.DataLoader(train_dataset, batch_size=BS, shuffle=True, num_workers=2, pin_memory=True)\n",
        "    val_loader = torch.utils.data.DataLoader(val_dataset, batch_size=BS, shuffle=True, num_workers=2, pin_memory=True)\n",
        "\n",
        "    # Define model, loss, optimizer with current hyperparameters\n",
        "    model = models.vgg16(pretrained=False)\n",
        "    model.classifier[6] = nn.Linear(4096, 43)\n",
        "    model.to(device)\n",
        "    # Define optimizer based on the current hyperparameters\n",
        "    if params['optimizer'] == 'SGD':\n",
        "        optimizer = optim.SGD(model.parameters(), lr=params['lr'], momentum=params['momentum'])\n",
        "    elif params['optimizer'] == 'Adam':\n",
        "        optimizer = optim.Adam(model.parameters(), lr=params['lr'], weight_decay=params['weight_decay'])\n",
        "    ...\n",
        "    criterion = nn.CrossEntropyLoss()\n",
        "\n",
        "    # Initialize early stopping\n",
        "    early_stopping = EarlyStopping(patience=3, min_delta=0.001)\n",
        "\n",
        "    # Use the compile function for training\n",
        "    metrics = compile(train_loader, val_loader, MAX_EPOCHS, criterion, optimizer, model)\n",
        "\n",
        "\n",
        "    # Assuming the last value in the val_acc_list is for the latest epoch\n",
        "    accuracy = metrics['val_acc'][-1]\n",
        "    if accuracy > best_accuracy:\n",
        "        best_accuracy = accuracy\n",
        "        best_params = params\n",
        "\n",
        "\n",
        "    results.append({\n",
        "        'batch_size': params['batch_size'],\n",
        "        'lr': params['lr'],\n",
        "        'momentum': params['momentum'],\n",
        "        'optimizer': params['optimizer'],\n",
        "        'weight_decay': params['weight_decay'],\n",
        "        'val_acc': val_acc\n",
        "    })\n",
        "\n",
        "df = pd.DataFrame(results, index=False)\n",
        "df.to_csv('hyper_results')\n",
        "print(f\"Best validation accuracy: {best_accuracy}\")\n",
        "print(f\"Best hyperparameters: {best_params}\")"
      ],
      "metadata": {
        "id": "HGCtU6uuXOfC"
      },
      "execution_count": null,
      "outputs": []
    },
    {
      "cell_type": "code",
      "source": [
        "\n",
        "# Best Model\n",
        "BS = 16\n",
        "EPOCHS = 10\n",
        "LEARNING_RATE = 0.001\n",
        "MOMENTUM = 0.95\n",
        "# Apply transformations\n",
        "train_dataset = CustomDataset(train_dataset_org, transform=train_transforms)\n",
        "val_dataset = CustomDataset(val_dataset_org, transform=validation_transforms)\n",
        "test_dataset = CustomDataset(test_dataset_org, transform=test_transforms)\n",
        "\n",
        "train_aug_dataset = CustomDataset(train_dataset , transform=train_aug_transforms)\n",
        "\n",
        "# Data loaders\n",
        "train_loader = torch.utils.data.DataLoader(torch.utils.data.ConcatDataset([train_dataset,train_aug_dataset]), batch_size=BS, shuffle=True, num_workers=2, pin_memory=True)\n",
        "val_loader = torch.utils.data.DataLoader(val_dataset, batch_size=BS, shuffle=False, num_workers=2, pin_memory=True)\n",
        "test_loader = torch.utils.data.DataLoader(test_dataset, batch_size=BS, shuffle=False, num_workers=2, pin_memory=True)\n",
        "\n",
        "# Load the VGG16 model\n",
        "vgg16 = models.vgg16(pretrained=False)  # We use a non-pretrained model for this task\n",
        "vgg16.classifier[6] = nn.Linear(4096, 43)  # Change the last layer to have 43 outputs\n",
        "device = torch.device(\"cuda\" if torch.cuda.is_available() else \"cpu\")\n",
        "model = vgg16.to(device)\n",
        "optimizer = optim.SGD(params=model.parameters(),lr=LEARNING_RATE, momentum=MOMENTUM)\n",
        "lr_s = optim.lr_scheduler.LinearLR(optimizer,start_factor=1.0,end_factor=0.5,total_iters=10)\n",
        "loss = nn.CrossEntropyLoss()\n",
        "\n",
        "\n"
      ],
      "metadata": {
        "id": "_fQbs-xb39fh"
      },
      "execution_count": null,
      "outputs": []
    },
    {
      "cell_type": "code",
      "source": [
        "vgg_final_metrics = compile(model =model, train_data=train_loader,validation_data=val_loader,epochs=EPOCHS,loss_function=loss,optimizer=optimizer,learning_rate_scheduler=lr_s)"
      ],
      "metadata": {
        "colab": {
          "base_uri": "https://localhost:8080/"
        },
        "id": "42UxM_lx8lw3",
        "outputId": "18499d2c-843e-4012-9536-5766e3f2cc54"
      },
      "execution_count": 6,
      "outputs": [
        {
          "metadata": {
            "tags": null
          },
          "name": "stdout",
          "output_type": "stream",
          "text": [
            "Training started ...\n"
          ]
        },
        {
          "output_type": "stream",
          "name": "stderr",
          "text": [
            "Epoch [1/10]:   0%|          | 0/2132 [00:00<?, ?it/s]/usr/local/lib/python3.10/dist-packages/torchvision/transforms/functional.py:1603: UserWarning: The default value of the antialias parameter of all the resizing transforms (Resize(), RandomResizedCrop(), etc.) will change from None to True in v0.17, in order to be consistent across the PIL and Tensor backends. To suppress this warning, directly pass antialias=True (recommended, future default), antialias=None (current default, which means False for Tensors and True for PIL), or antialias=False (only works on Tensors - PIL will still use antialiasing). This also applies if you are using the inference transforms from the models weights: update the call to weights.transforms(antialias=True).\n",
            "  warnings.warn(\n",
            "/usr/local/lib/python3.10/dist-packages/torchvision/transforms/functional.py:1603: UserWarning: The default value of the antialias parameter of all the resizing transforms (Resize(), RandomResizedCrop(), etc.) will change from None to True in v0.17, in order to be consistent across the PIL and Tensor backends. To suppress this warning, directly pass antialias=True (recommended, future default), antialias=None (current default, which means False for Tensors and True for PIL), or antialias=False (only works on Tensors - PIL will still use antialiasing). This also applies if you are using the inference transforms from the models weights: update the call to weights.transforms(antialias=True).\n",
            "  warnings.warn(\n",
            "Epoch [1/10]: 100%|██████████| 2132/2132 [08:50<00:00,  4.02it/s, Learning Rate=0.001, Loss=1.8930, Accuracy=0.2099]\n"
          ]
        },
        {
          "output_type": "stream",
          "name": "stdout",
          "text": [
            "Validation Accuracy: 0.5186, Validation Loss: 1.4262\n"
          ]
        },
        {
          "output_type": "stream",
          "name": "stderr",
          "text": [
            "\rEpoch [2/10]:   0%|          | 0/2132 [00:00<?, ?it/s]/usr/local/lib/python3.10/dist-packages/torchvision/transforms/functional.py:1603: UserWarning: The default value of the antialias parameter of all the resizing transforms (Resize(), RandomResizedCrop(), etc.) will change from None to True in v0.17, in order to be consistent across the PIL and Tensor backends. To suppress this warning, directly pass antialias=True (recommended, future default), antialias=None (current default, which means False for Tensors and True for PIL), or antialias=False (only works on Tensors - PIL will still use antialiasing). This also applies if you are using the inference transforms from the models weights: update the call to weights.transforms(antialias=True).\n",
            "  warnings.warn(\n",
            "/usr/local/lib/python3.10/dist-packages/torchvision/transforms/functional.py:1603: UserWarning: The default value of the antialias parameter of all the resizing transforms (Resize(), RandomResizedCrop(), etc.) will change from None to True in v0.17, in order to be consistent across the PIL and Tensor backends. To suppress this warning, directly pass antialias=True (recommended, future default), antialias=None (current default, which means False for Tensors and True for PIL), or antialias=False (only works on Tensors - PIL will still use antialiasing). This also applies if you are using the inference transforms from the models weights: update the call to weights.transforms(antialias=True).\n",
            "  warnings.warn(\n",
            "Epoch [2/10]: 100%|██████████| 2132/2132 [08:52<00:00,  4.00it/s, Learning Rate=0.00095, Loss=1.3330, Accuracy=0.6841]\n"
          ]
        },
        {
          "output_type": "stream",
          "name": "stdout",
          "text": [
            "Validation Accuracy: 0.9418, Validation Loss: 0.1679\n"
          ]
        },
        {
          "output_type": "stream",
          "name": "stderr",
          "text": [
            "\rEpoch [3/10]:   0%|          | 0/2132 [00:00<?, ?it/s]/usr/local/lib/python3.10/dist-packages/torchvision/transforms/functional.py:1603: UserWarning: The default value of the antialias parameter of all the resizing transforms (Resize(), RandomResizedCrop(), etc.) will change from None to True in v0.17, in order to be consistent across the PIL and Tensor backends. To suppress this warning, directly pass antialias=True (recommended, future default), antialias=None (current default, which means False for Tensors and True for PIL), or antialias=False (only works on Tensors - PIL will still use antialiasing). This also applies if you are using the inference transforms from the models weights: update the call to weights.transforms(antialias=True).\n",
            "  warnings.warn(\n",
            "/usr/local/lib/python3.10/dist-packages/torchvision/transforms/functional.py:1603: UserWarning: The default value of the antialias parameter of all the resizing transforms (Resize(), RandomResizedCrop(), etc.) will change from None to True in v0.17, in order to be consistent across the PIL and Tensor backends. To suppress this warning, directly pass antialias=True (recommended, future default), antialias=None (current default, which means False for Tensors and True for PIL), or antialias=False (only works on Tensors - PIL will still use antialiasing). This also applies if you are using the inference transforms from the models weights: update the call to weights.transforms(antialias=True).\n",
            "  warnings.warn(\n",
            "Epoch [3/10]: 100%|██████████| 2132/2132 [08:53<00:00,  4.00it/s, Learning Rate=0.0009, Loss=0.0770, Accuracy=0.8098]\n"
          ]
        },
        {
          "output_type": "stream",
          "name": "stdout",
          "text": [
            "Validation Accuracy: 0.9740, Validation Loss: 0.0749\n"
          ]
        },
        {
          "output_type": "stream",
          "name": "stderr",
          "text": [
            "\rEpoch [4/10]:   0%|          | 0/2132 [00:00<?, ?it/s]/usr/local/lib/python3.10/dist-packages/torchvision/transforms/functional.py:1603: UserWarning: The default value of the antialias parameter of all the resizing transforms (Resize(), RandomResizedCrop(), etc.) will change from None to True in v0.17, in order to be consistent across the PIL and Tensor backends. To suppress this warning, directly pass antialias=True (recommended, future default), antialias=None (current default, which means False for Tensors and True for PIL), or antialias=False (only works on Tensors - PIL will still use antialiasing). This also applies if you are using the inference transforms from the models weights: update the call to weights.transforms(antialias=True).\n",
            "  warnings.warn(\n",
            "/usr/local/lib/python3.10/dist-packages/torchvision/transforms/functional.py:1603: UserWarning: The default value of the antialias parameter of all the resizing transforms (Resize(), RandomResizedCrop(), etc.) will change from None to True in v0.17, in order to be consistent across the PIL and Tensor backends. To suppress this warning, directly pass antialias=True (recommended, future default), antialias=None (current default, which means False for Tensors and True for PIL), or antialias=False (only works on Tensors - PIL will still use antialiasing). This also applies if you are using the inference transforms from the models weights: update the call to weights.transforms(antialias=True).\n",
            "  warnings.warn(\n",
            "Epoch [4/10]: 100%|██████████| 2132/2132 [08:52<00:00,  4.00it/s, Learning Rate=0.00085, Loss=0.0000, Accuracy=0.8481]\n"
          ]
        },
        {
          "output_type": "stream",
          "name": "stdout",
          "text": [
            "Validation Accuracy: 0.9770, Validation Loss: 0.0833\n"
          ]
        },
        {
          "output_type": "stream",
          "name": "stderr",
          "text": [
            "\rEpoch [5/10]:   0%|          | 0/2132 [00:00<?, ?it/s]/usr/local/lib/python3.10/dist-packages/torchvision/transforms/functional.py:1603: UserWarning: The default value of the antialias parameter of all the resizing transforms (Resize(), RandomResizedCrop(), etc.) will change from None to True in v0.17, in order to be consistent across the PIL and Tensor backends. To suppress this warning, directly pass antialias=True (recommended, future default), antialias=None (current default, which means False for Tensors and True for PIL), or antialias=False (only works on Tensors - PIL will still use antialiasing). This also applies if you are using the inference transforms from the models weights: update the call to weights.transforms(antialias=True).\n",
            "  warnings.warn(\n",
            "/usr/local/lib/python3.10/dist-packages/torchvision/transforms/functional.py:1603: UserWarning: The default value of the antialias parameter of all the resizing transforms (Resize(), RandomResizedCrop(), etc.) will change from None to True in v0.17, in order to be consistent across the PIL and Tensor backends. To suppress this warning, directly pass antialias=True (recommended, future default), antialias=None (current default, which means False for Tensors and True for PIL), or antialias=False (only works on Tensors - PIL will still use antialiasing). This also applies if you are using the inference transforms from the models weights: update the call to weights.transforms(antialias=True).\n",
            "  warnings.warn(\n",
            "Epoch [5/10]: 100%|██████████| 2132/2132 [08:52<00:00,  4.00it/s, Learning Rate=0.0008, Loss=1.0141, Accuracy=0.8663]\n"
          ]
        },
        {
          "output_type": "stream",
          "name": "stdout",
          "text": [
            "Validation Accuracy: 0.9916, Validation Loss: 0.0334\n"
          ]
        },
        {
          "output_type": "stream",
          "name": "stderr",
          "text": [
            "\rEpoch [6/10]:   0%|          | 0/2132 [00:00<?, ?it/s]/usr/local/lib/python3.10/dist-packages/torchvision/transforms/functional.py:1603: UserWarning: The default value of the antialias parameter of all the resizing transforms (Resize(), RandomResizedCrop(), etc.) will change from None to True in v0.17, in order to be consistent across the PIL and Tensor backends. To suppress this warning, directly pass antialias=True (recommended, future default), antialias=None (current default, which means False for Tensors and True for PIL), or antialias=False (only works on Tensors - PIL will still use antialiasing). This also applies if you are using the inference transforms from the models weights: update the call to weights.transforms(antialias=True).\n",
            "  warnings.warn(\n",
            "/usr/local/lib/python3.10/dist-packages/torchvision/transforms/functional.py:1603: UserWarning: The default value of the antialias parameter of all the resizing transforms (Resize(), RandomResizedCrop(), etc.) will change from None to True in v0.17, in order to be consistent across the PIL and Tensor backends. To suppress this warning, directly pass antialias=True (recommended, future default), antialias=None (current default, which means False for Tensors and True for PIL), or antialias=False (only works on Tensors - PIL will still use antialiasing). This also applies if you are using the inference transforms from the models weights: update the call to weights.transforms(antialias=True).\n",
            "  warnings.warn(\n",
            "Epoch [6/10]: 100%|██████████| 2132/2132 [08:53<00:00,  4.00it/s, Learning Rate=0.00075, Loss=0.0004, Accuracy=0.8762]\n"
          ]
        },
        {
          "output_type": "stream",
          "name": "stdout",
          "text": [
            "Validation Accuracy: 0.9927, Validation Loss: 0.0337\n"
          ]
        },
        {
          "output_type": "stream",
          "name": "stderr",
          "text": [
            "\rEpoch [7/10]:   0%|          | 0/2132 [00:00<?, ?it/s]/usr/local/lib/python3.10/dist-packages/torchvision/transforms/functional.py:1603: UserWarning: The default value of the antialias parameter of all the resizing transforms (Resize(), RandomResizedCrop(), etc.) will change from None to True in v0.17, in order to be consistent across the PIL and Tensor backends. To suppress this warning, directly pass antialias=True (recommended, future default), antialias=None (current default, which means False for Tensors and True for PIL), or antialias=False (only works on Tensors - PIL will still use antialiasing). This also applies if you are using the inference transforms from the models weights: update the call to weights.transforms(antialias=True).\n",
            "  warnings.warn(\n",
            "/usr/local/lib/python3.10/dist-packages/torchvision/transforms/functional.py:1603: UserWarning: The default value of the antialias parameter of all the resizing transforms (Resize(), RandomResizedCrop(), etc.) will change from None to True in v0.17, in order to be consistent across the PIL and Tensor backends. To suppress this warning, directly pass antialias=True (recommended, future default), antialias=None (current default, which means False for Tensors and True for PIL), or antialias=False (only works on Tensors - PIL will still use antialiasing). This also applies if you are using the inference transforms from the models weights: update the call to weights.transforms(antialias=True).\n",
            "  warnings.warn(\n",
            "Epoch [7/10]: 100%|██████████| 2132/2132 [08:52<00:00,  4.01it/s, Learning Rate=0.0007, Loss=0.3660, Accuracy=0.8852]\n"
          ]
        },
        {
          "output_type": "stream",
          "name": "stdout",
          "text": [
            "Validation Accuracy: 0.9948, Validation Loss: 0.0239\n"
          ]
        },
        {
          "output_type": "stream",
          "name": "stderr",
          "text": [
            "\rEpoch [8/10]:   0%|          | 0/2132 [00:00<?, ?it/s]/usr/local/lib/python3.10/dist-packages/torchvision/transforms/functional.py:1603: UserWarning: The default value of the antialias parameter of all the resizing transforms (Resize(), RandomResizedCrop(), etc.) will change from None to True in v0.17, in order to be consistent across the PIL and Tensor backends. To suppress this warning, directly pass antialias=True (recommended, future default), antialias=None (current default, which means False for Tensors and True for PIL), or antialias=False (only works on Tensors - PIL will still use antialiasing). This also applies if you are using the inference transforms from the models weights: update the call to weights.transforms(antialias=True).\n",
            "  warnings.warn(\n",
            "/usr/local/lib/python3.10/dist-packages/torchvision/transforms/functional.py:1603: UserWarning: The default value of the antialias parameter of all the resizing transforms (Resize(), RandomResizedCrop(), etc.) will change from None to True in v0.17, in order to be consistent across the PIL and Tensor backends. To suppress this warning, directly pass antialias=True (recommended, future default), antialias=None (current default, which means False for Tensors and True for PIL), or antialias=False (only works on Tensors - PIL will still use antialiasing). This also applies if you are using the inference transforms from the models weights: update the call to weights.transforms(antialias=True).\n",
            "  warnings.warn(\n",
            "Epoch [8/10]: 100%|██████████| 2132/2132 [08:52<00:00,  4.00it/s, Learning Rate=0.00065, Loss=0.0000, Accuracy=0.8938]\n"
          ]
        },
        {
          "output_type": "stream",
          "name": "stdout",
          "text": [
            "Validation Accuracy: 0.9948, Validation Loss: 0.0198\n"
          ]
        },
        {
          "output_type": "stream",
          "name": "stderr",
          "text": [
            "\rEpoch [9/10]:   0%|          | 0/2132 [00:00<?, ?it/s]/usr/local/lib/python3.10/dist-packages/torchvision/transforms/functional.py:1603: UserWarning: The default value of the antialias parameter of all the resizing transforms (Resize(), RandomResizedCrop(), etc.) will change from None to True in v0.17, in order to be consistent across the PIL and Tensor backends. To suppress this warning, directly pass antialias=True (recommended, future default), antialias=None (current default, which means False for Tensors and True for PIL), or antialias=False (only works on Tensors - PIL will still use antialiasing). This also applies if you are using the inference transforms from the models weights: update the call to weights.transforms(antialias=True).\n",
            "  warnings.warn(\n",
            "/usr/local/lib/python3.10/dist-packages/torchvision/transforms/functional.py:1603: UserWarning: The default value of the antialias parameter of all the resizing transforms (Resize(), RandomResizedCrop(), etc.) will change from None to True in v0.17, in order to be consistent across the PIL and Tensor backends. To suppress this warning, directly pass antialias=True (recommended, future default), antialias=None (current default, which means False for Tensors and True for PIL), or antialias=False (only works on Tensors - PIL will still use antialiasing). This also applies if you are using the inference transforms from the models weights: update the call to weights.transforms(antialias=True).\n",
            "  warnings.warn(\n",
            "Epoch [9/10]: 100%|██████████| 2132/2132 [08:52<00:00,  4.00it/s, Learning Rate=0.0006, Loss=0.0000, Accuracy=0.8977]\n"
          ]
        },
        {
          "output_type": "stream",
          "name": "stdout",
          "text": [
            "Validation Accuracy: 0.9918, Validation Loss: 0.0299\n"
          ]
        },
        {
          "output_type": "stream",
          "name": "stderr",
          "text": [
            "\rEpoch [10/10]:   0%|          | 0/2132 [00:00<?, ?it/s]/usr/local/lib/python3.10/dist-packages/torchvision/transforms/functional.py:1603: UserWarning: The default value of the antialias parameter of all the resizing transforms (Resize(), RandomResizedCrop(), etc.) will change from None to True in v0.17, in order to be consistent across the PIL and Tensor backends. To suppress this warning, directly pass antialias=True (recommended, future default), antialias=None (current default, which means False for Tensors and True for PIL), or antialias=False (only works on Tensors - PIL will still use antialiasing). This also applies if you are using the inference transforms from the models weights: update the call to weights.transforms(antialias=True).\n",
            "  warnings.warn(\n",
            "/usr/local/lib/python3.10/dist-packages/torchvision/transforms/functional.py:1603: UserWarning: The default value of the antialias parameter of all the resizing transforms (Resize(), RandomResizedCrop(), etc.) will change from None to True in v0.17, in order to be consistent across the PIL and Tensor backends. To suppress this warning, directly pass antialias=True (recommended, future default), antialias=None (current default, which means False for Tensors and True for PIL), or antialias=False (only works on Tensors - PIL will still use antialiasing). This also applies if you are using the inference transforms from the models weights: update the call to weights.transforms(antialias=True).\n",
            "  warnings.warn(\n",
            "Epoch [10/10]: 100%|██████████| 2132/2132 [08:53<00:00,  4.00it/s, Learning Rate=0.00055, Loss=0.0000, Accuracy=0.9029]\n"
          ]
        },
        {
          "output_type": "stream",
          "name": "stdout",
          "text": [
            "Validation Accuracy: 0.9951, Validation Loss: 0.0219\n"
          ]
        }
      ]
    },
    {
      "cell_type": "code",
      "source": [
        "\n",
        "def plot_metrics(metrics_dict):\n",
        "    epochs = range(1, len(metrics_dict['train_acc']) + 1)\n",
        "\n",
        "    # Plot training and validation accuracy\n",
        "    plt.figure(figsize=(12, 5))\n",
        "    plt.subplot(1, 2, 1)\n",
        "    plt.plot(epochs, metrics_dict['train_acc'], label='Training Accuracy', marker='o')\n",
        "    plt.plot(epochs, metrics_dict['val_acc'], label='Validation Accuracy', marker='o')\n",
        "    plt.title('Training and Validation Accuracy')\n",
        "    plt.xlabel('Epoch')\n",
        "    plt.ylabel('Accuracy')\n",
        "    plt.legend()\n",
        "\n",
        "    # Plot training and validation loss\n",
        "    plt.subplot(1, 2, 2)\n",
        "    plt.plot(epochs, metrics_dict['train_loss'], label='Training Loss', marker='o')\n",
        "    plt.plot(epochs, metrics_dict['val_loss'], label='Validation Loss', marker='o')\n",
        "    plt.title('Training and Validation Loss')\n",
        "    plt.xlabel('Epoch')\n",
        "    plt.ylabel('Loss')\n",
        "    plt.legend()\n",
        "\n",
        "    plt.tight_layout()\n",
        "    plt.show()"
      ],
      "metadata": {
        "id": "JzyO4Gtz8v8v"
      },
      "execution_count": 9,
      "outputs": []
    },
    {
      "cell_type": "code",
      "source": [
        "plot_metrics(vgg_final_metrics)"
      ],
      "metadata": {
        "id": "EIWzcNjBO3qi",
        "colab": {
          "base_uri": "https://localhost:8080/",
          "height": 507
        },
        "outputId": "9190b552-1fbb-469c-e825-4b19b679a7b5"
      },
      "execution_count": 11,
      "outputs": [
        {
          "output_type": "display_data",
          "data": {
            "text/plain": [
              "<Figure size 1200x500 with 2 Axes>"
            ],
            "image/png": "[encoded data removed]"
          },
          "metadata": {}
        }
      ]
    },
    {
      "cell_type": "code",
      "source": [
        "torch.save(model, '/content/drive/MyDrive/Colab Notebooks/Models/vgg_16_final.pth')"
      ],
      "metadata": {
        "id": "0TPKqzFnO7ib",
        "colab": {
          "base_uri": "https://localhost:8080/",
          "height": 322
        },
        "outputId": "08e60ecb-ca53-490e-9be0-d2ca7ff74dcd"
      },
      "execution_count": 7,
      "outputs": [
        {
          "output_type": "error",
          "ename": "RuntimeError",
          "evalue": "ignored",
          "traceback": [
            "\u001b[0;31m---------------------------------------------------------------------------\u001b[0m",
            "\u001b[0;31mRuntimeError\u001b[0m                              Traceback (most recent call last)",
            "\u001b[0;32m<ipython-input-7-837ae33ef9da>\u001b[0m in \u001b[0;36m<cell line: 1>\u001b[0;34m()\u001b[0m\n\u001b[0;32m----> 1\u001b[0;31m \u001b[0mtorch\u001b[0m\u001b[0;34m.\u001b[0m\u001b[0msave\u001b[0m\u001b[0;34m(\u001b[0m\u001b[0mmodel\u001b[0m\u001b[0;34m,\u001b[0m \u001b[0;34m'/content/drive/MyDrive/Colab Notebooks/Models/vgg_16_final.pth'\u001b[0m\u001b[0;34m)\u001b[0m\u001b[0;34m\u001b[0m\u001b[0;34m\u001b[0m\u001b[0m\n\u001b[0m",
            "\u001b[0;32m/usr/local/lib/python3.10/dist-packages/torch/serialization.py\u001b[0m in \u001b[0;36msave\u001b[0;34m(obj, f, pickle_module, pickle_protocol, _use_new_zipfile_serialization, _disable_byteorder_record)\u001b[0m\n\u001b[1;32m    616\u001b[0m \u001b[0;34m\u001b[0m\u001b[0m\n\u001b[1;32m    617\u001b[0m     \u001b[0;32mif\u001b[0m \u001b[0m_use_new_zipfile_serialization\u001b[0m\u001b[0;34m:\u001b[0m\u001b[0;34m\u001b[0m\u001b[0;34m\u001b[0m\u001b[0m\n\u001b[0;32m--> 618\u001b[0;31m         \u001b[0;32mwith\u001b[0m \u001b[0m_open_zipfile_writer\u001b[0m\u001b[0;34m(\u001b[0m\u001b[0mf\u001b[0m\u001b[0;34m)\u001b[0m \u001b[0;32mas\u001b[0m \u001b[0mopened_zipfile\u001b[0m\u001b[0;34m:\u001b[0m\u001b[0;34m\u001b[0m\u001b[0;34m\u001b[0m\u001b[0m\n\u001b[0m\u001b[1;32m    619\u001b[0m             \u001b[0m_save\u001b[0m\u001b[0;34m(\u001b[0m\u001b[0mobj\u001b[0m\u001b[0;34m,\u001b[0m \u001b[0mopened_zipfile\u001b[0m\u001b[0;34m,\u001b[0m \u001b[0mpickle_module\u001b[0m\u001b[0;34m,\u001b[0m \u001b[0mpickle_protocol\u001b[0m\u001b[0;34m,\u001b[0m \u001b[0m_disable_byteorder_record\u001b[0m\u001b[0;34m)\u001b[0m\u001b[0;34m\u001b[0m\u001b[0;34m\u001b[0m\u001b[0m\n\u001b[1;32m    620\u001b[0m             \u001b[0;32mreturn\u001b[0m\u001b[0;34m\u001b[0m\u001b[0;34m\u001b[0m\u001b[0m\n",
            "\u001b[0;32m/usr/local/lib/python3.10/dist-packages/torch/serialization.py\u001b[0m in \u001b[0;36m_open_zipfile_writer\u001b[0;34m(name_or_buffer)\u001b[0m\n\u001b[1;32m    490\u001b[0m     \u001b[0;32melse\u001b[0m\u001b[0;34m:\u001b[0m\u001b[0;34m\u001b[0m\u001b[0;34m\u001b[0m\u001b[0m\n\u001b[1;32m    491\u001b[0m         \u001b[0mcontainer\u001b[0m \u001b[0;34m=\u001b[0m \u001b[0m_open_zipfile_writer_buffer\u001b[0m\u001b[0;34m\u001b[0m\u001b[0;34m\u001b[0m\u001b[0m\n\u001b[0;32m--> 492\u001b[0;31m     \u001b[0;32mreturn\u001b[0m \u001b[0mcontainer\u001b[0m\u001b[0;34m(\u001b[0m\u001b[0mname_or_buffer\u001b[0m\u001b[0;34m)\u001b[0m\u001b[0;34m\u001b[0m\u001b[0;34m\u001b[0m\u001b[0m\n\u001b[0m\u001b[1;32m    493\u001b[0m \u001b[0;34m\u001b[0m\u001b[0m\n\u001b[1;32m    494\u001b[0m \u001b[0;34m\u001b[0m\u001b[0m\n",
            "\u001b[0;32m/usr/local/lib/python3.10/dist-packages/torch/serialization.py\u001b[0m in \u001b[0;36m__init__\u001b[0;34m(self, name)\u001b[0m\n\u001b[1;32m    461\u001b[0m             \u001b[0msuper\u001b[0m\u001b[0;34m(\u001b[0m\u001b[0;34m)\u001b[0m\u001b[0;34m.\u001b[0m\u001b[0m__init__\u001b[0m\u001b[0;34m(\u001b[0m\u001b[0mtorch\u001b[0m\u001b[0;34m.\u001b[0m\u001b[0m_C\u001b[0m\u001b[0;34m.\u001b[0m\u001b[0mPyTorchFileWriter\u001b[0m\u001b[0;34m(\u001b[0m\u001b[0mself\u001b[0m\u001b[0;34m.\u001b[0m\u001b[0mfile_stream\u001b[0m\u001b[0;34m)\u001b[0m\u001b[0;34m)\u001b[0m\u001b[0;34m\u001b[0m\u001b[0;34m\u001b[0m\u001b[0m\n\u001b[1;32m    462\u001b[0m         \u001b[0;32melse\u001b[0m\u001b[0;34m:\u001b[0m\u001b[0;34m\u001b[0m\u001b[0;34m\u001b[0m\u001b[0m\n\u001b[0;32m--> 463\u001b[0;31m             \u001b[0msuper\u001b[0m\u001b[0;34m(\u001b[0m\u001b[0;34m)\u001b[0m\u001b[0;34m.\u001b[0m\u001b[0m__init__\u001b[0m\u001b[0;34m(\u001b[0m\u001b[0mtorch\u001b[0m\u001b[0;34m.\u001b[0m\u001b[0m_C\u001b[0m\u001b[0;34m.\u001b[0m\u001b[0mPyTorchFileWriter\u001b[0m\u001b[0;34m(\u001b[0m\u001b[0mself\u001b[0m\u001b[0;34m.\u001b[0m\u001b[0mname\u001b[0m\u001b[0;34m)\u001b[0m\u001b[0;34m)\u001b[0m\u001b[0;34m\u001b[0m\u001b[0;34m\u001b[0m\u001b[0m\n\u001b[0m\u001b[1;32m    464\u001b[0m \u001b[0;34m\u001b[0m\u001b[0m\n\u001b[1;32m    465\u001b[0m     \u001b[0;32mdef\u001b[0m \u001b[0m__exit__\u001b[0m\u001b[0;34m(\u001b[0m\u001b[0mself\u001b[0m\u001b[0;34m,\u001b[0m \u001b[0;34m*\u001b[0m\u001b[0margs\u001b[0m\u001b[0;34m)\u001b[0m \u001b[0;34m->\u001b[0m \u001b[0;32mNone\u001b[0m\u001b[0;34m:\u001b[0m\u001b[0;34m\u001b[0m\u001b[0;34m\u001b[0m\u001b[0m\n",
            "\u001b[0;31mRuntimeError\u001b[0m: Parent directory /content/drive/MyDrive/Colab Notebooks/Models does not exist."
          ]
        }
      ]
    },
    {
      "cell_type": "code",
      "source": [
        "def evaluate(data_loader, model, loss_function):\n",
        "    data_size = len(data_loader.dataset)\n",
        "    correct_predictions = 0\n",
        "    total_samples = 0\n",
        "    total_loss = 0\n",
        "\n",
        "    model.eval()  # Set the model to evaluation mode\n",
        "    with torch.no_grad():\n",
        "        for step, (input, label) in enumerate(data_loader):\n",
        "            input, label = input.to(device), label.to(device)\n",
        "            prediction = model(input)\n",
        "            loss = loss_function(prediction, label)\n",
        "            total_loss += loss.item()\n",
        "            _, predicted = torch.max(prediction, 1)\n",
        "            correct_predictions += (predicted == label).sum().item()\n",
        "            total_samples += label.size(0)\n",
        "\n",
        "    accuracy = correct_predictions / total_samples\n",
        "    average_loss = total_loss / len(data_loader)\n",
        "    return average_loss, accuracy\n",
        "\n",
        "# Now, to compute the accuracy on the test dataset:\n",
        "\n",
        "test_loss, test_accuracy = evaluate(test_loader, model, loss_function = loss)\n",
        "print(f\"Test Accuracy: {test_accuracy:.4f}, Test Loss: {test_loss:.4f}\")"
      ],
      "metadata": {
        "id": "imERcjBiUJMo",
        "colab": {
          "base_uri": "https://localhost:8080/"
        },
        "outputId": "bda5be06-5e28-4349-81b6-d88457f3595b"
      },
      "execution_count": 12,
      "outputs": [
        {
          "output_type": "stream",
          "name": "stdout",
          "text": [
            "Test Accuracy: 0.9968, Test Loss: 0.0109\n"
          ]
        }
      ]
    },
    {
      "cell_type": "code",
      "source": [],
      "metadata": {
        "id": "zP8oKpT5Ldw-"
      },
      "execution_count": null,
      "outputs": []
    }
  ]
}